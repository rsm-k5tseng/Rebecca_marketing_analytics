{
  "cells": [
    {
      "cell_type": "markdown",
      "metadata": {},
      "source": [
        "---\n",
        "title: \"A Replication of Karlan and List (2007)\"\n",
        "author: \"Kuan-Ling (Rebecca) Tseng\"\n",
        "date: today\n",
        "callout-appearance: minimal # this hides the blue \"i\" icon on .callout-notes\n",
        "---\n",
        "\n",
        "\n",
        "\n",
        "\n",
        "\n",
        "## Introduction\n",
        "\n",
        "Dean Karlan at Yale and John List at the University of Chicago conducted a field experiment to test the effectiveness of different fundraising letters. They sent out 50,000 fundraising letters to potential donors, randomly assigning each letter to one of three treatments: a standard letter, a matching grant letter, or a challenge grant letter. They published the results of this experiment in the _American Economic Review_ in 2007. The article and supporting data are available from the [AEA website](https://www.aeaweb.org/articles?id=10.1257/aer.97.5.1774) and from Innovations for Poverty Action as part of [Harvard's Dataverse](https://dataverse.harvard.edu/dataset.xhtml?persistentId=doi:10.7910/DVN/27853&version=4.2).\n",
        "\n",
        "In the experiment, the authors collaborated with a nonprofit organization and conducted a large-scale field experiment involving over 50,000 prior donors. Each donor was randomly assigned to receive one of several types of direct-mail fundraising letters.\n",
        "\n",
        "The control group received a standard letter with no match offer, while the treatment groups received a matching grant offer, where an anonymous donor pledged to match donations at a rate of 1:1, 2:1, or 3:1. Additionally, the letters varied in their presentation of the suggested donation amount and the total match cap ($25,000 / $50,000 / $100,000 / unstated).\n",
        "\n",
        "The researchers then tracked each recipient’s response—specifically:\n",
        "•\tWhether they donated at all (gave)\n",
        "•\tHow much they donated (amount)\n",
        "\n",
        "This allowed the authors to examine whether matching grants increase donations, whether the size of the match ratio matters, and how the differences influence donor behavior.\n",
        "\n",
        "This project seeks to replicate their results.\n",
        "\n",
        "## Data\n",
        "\n",
        "### Description\n"
      ],
      "id": "4f9d2f93"
    },
    {
      "cell_type": "code",
      "metadata": {},
      "source": [
        "code-fold: true\n",
        "code-summary: \"Show Python Code\"\n",
        "\n",
        "import pandas as pd\n",
        "\n",
        "df = pd.read_stata(\n",
        "    \"/Users/rebeccatseng/Downloads/Rebecca_marketing_analytics/data/karlan_list_2007.dta\",\n",
        "    iterator=False,\n",
        ")\n",
        "df.head()"
      ],
      "id": "b8e05bb2",
      "execution_count": null,
      "outputs": []
    },
    {
      "cell_type": "code",
      "metadata": {},
      "source": [
        "df.describe()"
      ],
      "id": "90afab5c",
      "execution_count": null,
      "outputs": []
    },
    {
      "cell_type": "markdown",
      "metadata": {},
      "source": [
        ":::: {.callout-note collapse=\"true\"}\n",
        "### Variable Definitions\n",
        "\n",
        "| Variable             | Description                                                         |\n",
        "|----------------------|---------------------------------------------------------------------|\n",
        "| `treatment`          | Treatment                                                           |\n",
        "| `control`            | Control                                                             |\n",
        "| `ratio`              | Match ratio                                                         |\n",
        "| `ratio2`             | 2:1 match ratio                                                     |\n",
        "| `ratio3`             | 3:1 match ratio                                                     |\n",
        "| `size`               | Match threshold                                                     |\n",
        "| `size25`             | \\$25,000 match threshold                                            |\n",
        "| `size50`             | \\$50,000 match threshold                                            |\n",
        "| `size100`            | \\$100,000 match threshold                                           |\n",
        "| `sizeno`             | Unstated match threshold                                            |\n",
        "| `ask`                | Suggested donation amount                                           |\n",
        "| `askd1`              | Suggested donation was highest previous contribution                |\n",
        "| `askd2`              | Suggested donation was 1.25 x highest previous contribution         |\n",
        "| `askd3`              | Suggested donation was 1.50 x highest previous contribution         |\n",
        "| `ask1`               | Highest previous contribution (for suggestion)                      |\n",
        "| `ask2`               | 1.25 x highest previous contribution (for suggestion)               |\n",
        "| `ask3`               | 1.50 x highest previous contribution (for suggestion)               |\n",
        "| `amount`             | Dollars given                                                       |\n",
        "| `gave`               | Gave anything                                                       |\n",
        "| `amountchange`       | Change in amount given                                              |\n",
        "| `hpa`                | Highest previous contribution                                       |\n",
        "| `ltmedmra`           | Small prior donor: last gift was less than median \\$35              |\n",
        "| `freq`               | Number of prior donations                                           |\n",
        "| `years`              | Number of years since initial donation                              |\n",
        "| `year5`              | At least 5 years since initial donation                             |\n",
        "| `mrm2`               | Number of months since last donation                                |\n",
        "| `dormant`            | Already donated in 2005                                             |\n",
        "| `female`             | Female                                                              |\n",
        "| `couple`             | Couple                                                              |\n",
        "| `state50one`         | State tag: 1 for one observation of each of 50 states; 0 otherwise  |\n",
        "| `nonlit`             | Nonlitigation                                                       |\n",
        "| `cases`              | Court cases from state in 2004-5 in which organization was involved |\n",
        "| `statecnt`           | Percent of sample from state                                        |\n",
        "| `stateresponse`      | Proportion of sample from the state who gave                        |\n",
        "| `stateresponset`     | Proportion of treated sample from the state who gave                |\n",
        "| `stateresponsec`     | Proportion of control sample from the state who gave                |\n",
        "| `stateresponsetminc` | stateresponset - stateresponsec                                     |\n",
        "| `perbush`            | State vote share for Bush                                           |\n",
        "| `close25`            | State vote share for Bush between 47.5% and 52.5%                   |\n",
        "| `red0`               | Red state                                                           |\n",
        "| `blue0`              | Blue state                                                          |\n",
        "| `redcty`             | Red county                                                          |\n",
        "| `bluecty`            | Blue county                                                         |\n",
        "| `pwhite`             | Proportion white within zip code                                    |\n",
        "| `pblack`             | Proportion black within zip code                                    |\n",
        "| `page18_39`          | Proportion age 18-39 within zip code                                |\n",
        "| `ave_hh_sz`          | Average household size within zip code                              |\n",
        "| `median_hhincome`    | Median household income within zip code                             |\n",
        "| `powner`             | Proportion house owner within zip code                              |\n",
        "| `psch_atlstba`       | Proportion who finished college within zip code                     |\n",
        "| `pop_propurban`      | Proportion of population urban within zip code                      |\n",
        "\n",
        "::::\n",
        "\n",
        "\n",
        "### Balance Test \n",
        "\n",
        "As an ad hoc test of the randomization mechanism, I provide a series of tests that compare aspects of the treatment and control groups to assess whether they are statistically significantly different from one another.\n"
      ],
      "id": "5ea54ba9"
    },
    {
      "cell_type": "code",
      "metadata": {},
      "source": [
        "from sklearn import linear_model\n",
        "import numpy as np\n",
        "\n",
        "test_variables = [\"hpa\", \"mrm2\", \"freq\", \"years\", \"year5\", \"dormant\"]\n",
        "\n",
        "\n",
        "def compare_ttest_regress(variable):\n",
        "\n",
        "    subset = df[[\"treatment\", variable]].dropna()\n",
        "    treat = subset[subset[\"treatment\"] == 1][variable]\n",
        "    control = subset[subset[\"treatment\"] == 0][variable]\n",
        "\n",
        "    # t-test\n",
        "    mean_diff = treat.mean() - control.mean()\n",
        "    var_treat = treat.var(ddof=1)\n",
        "    var_control = control.var(ddof=1)\n",
        "    se = np.sqrt(var_treat / len(treat) + var_control / len(control))\n",
        "    t_stat = mean_diff / se\n",
        "    ttest_result = round(t_stat, 2)\n",
        "\n",
        "    # regression\n",
        "    X = subset[\"treatment\"].values.reshape(-1, 1)\n",
        "    y = subset[variable].values\n",
        "    reg = linear_model.LinearRegression()\n",
        "    reg.fit(X, y)\n",
        "    reg_result = round(reg.coef_[0] / se, 2)\n",
        "\n",
        "    return ttest_result, reg_result\n",
        "\n",
        "\n",
        "results = []\n",
        "for v in test_variables:\n",
        "    results.append(\n",
        "        {\n",
        "            \"variable\": v,\n",
        "            \"t_test\": compare_ttest_regress(v)[0],\n",
        "            \"regress\": compare_ttest_regress(v)[1],\n",
        "        }\n",
        "    )\n",
        "\n",
        "df_result = pd.DataFrame(results)\n",
        "df_result"
      ],
      "id": "90422411",
      "execution_count": null,
      "outputs": []
    },
    {
      "cell_type": "markdown",
      "metadata": {},
      "source": [
        "## Experimental Results\n",
        "\n",
        "### Charitable Contribution Made\n",
        "\n",
        "First, I analyze whether matched donations lead to an increased response rate of making a donation. \n"
      ],
      "id": "a97a631f"
    },
    {
      "cell_type": "code",
      "metadata": {},
      "source": [
        "import matplotlib.pyplot as plt\n",
        "\n",
        "\n",
        "df_treat = df.query(\"treatment==1\")\n",
        "df_control = df.query(\"control==1\")\n",
        "treat_prop = df_treat[\"gave\"].value_counts(normalize=True)\n",
        "control_prop = df_control[\"gave\"].value_counts(normalize=True)\n",
        "\n",
        "fig, ax = plt.subplots()\n",
        "bars = ax.bar(\n",
        "    [\"treat\", \"control\"],\n",
        "    [treat_prop[1] * 100, control_prop[1] * 100],\n",
        "    color=[\"skyblue\", \"orange\"],\n",
        ")\n",
        "\n",
        "for bar in bars:\n",
        "    height = bar.get_height()\n",
        "    ax.annotate(\n",
        "        f\"{height:.1f}%\",\n",
        "        xy=(bar.get_x() + bar.get_width() / 2, height),\n",
        "        xytext=(0, 2),\n",
        "        textcoords=\"offset points\",\n",
        "        ha=\"center\",\n",
        "        va=\"bottom\",\n",
        "    )\n"
      ],
      "id": "ca5a3b26",
      "execution_count": null,
      "outputs": []
    },
    {
      "cell_type": "code",
      "metadata": {},
      "source": [
        "treat = df[df[\"treatment\"] == 1][\"gave\"]\n",
        "control = df[df[\"treatment\"] == 0][\"gave\"]\n",
        "# t-test\n",
        "mean_diff = treat.mean() - control.mean()\n",
        "var_treat = treat.var(ddof=1)\n",
        "var_control = control.var(ddof=1)\n",
        "se = np.sqrt(var_treat / len(treat) + var_control / len(control))\n",
        "t_stat = mean_diff / se\n",
        "ttest_result = round(t_stat, 2)\n",
        "ttest_result"
      ],
      "id": "47df5f55",
      "execution_count": null,
      "outputs": []
    },
    {
      "cell_type": "markdown",
      "metadata": {},
      "source": [
        "Since the t-test result is so large, we can conclude that the treatment group is significantly more willing to donate than the control group.\n"
      ],
      "id": "3d9389b5"
    },
    {
      "cell_type": "code",
      "metadata": {},
      "source": [
        "# regression\n",
        "X = df[\"treatment\"].values.reshape(-1, 1)\n",
        "y = df[\"gave\"].values\n",
        "reg = linear_model.LinearRegression()\n",
        "reg.fit(X, y)\n",
        "reg_result = round(reg.coef_[0] / se, 2)\n",
        "reg_result"
      ],
      "id": "44da5efa",
      "execution_count": null,
      "outputs": []
    },
    {
      "cell_type": "markdown",
      "metadata": {},
      "source": [
        "According to the linear regression model, the coefficient is so big that we can conclude that the treatment group is more likely to donate than the control group.\n"
      ],
      "id": "243b67b5"
    },
    {
      "cell_type": "code",
      "metadata": {},
      "source": [
        "import statsmodels.api as sm\n",
        "import statsmodels.formula.api as smf\n",
        "\n",
        "df_clean = df[[\"gave\", \"treatment\"]].dropna()\n",
        "\n",
        "X = sm.add_constant(df_clean[\"treatment\"])\n",
        "y = df_clean[\"gave\"]\n",
        "probit_model = sm.Probit(y, X).fit()\n",
        "\n",
        "print(probit_model.summary())\n",
        "\n",
        "mfx = probit_model.get_margeff()\n",
        "print(mfx.summary())"
      ],
      "id": "06518026",
      "execution_count": null,
      "outputs": []
    },
    {
      "cell_type": "markdown",
      "metadata": {},
      "source": [
        "Based on the probit regression result, people in the treatment group are significantly more inclined to donate money.\n",
        "\n",
        "### Differences between Match Rates\n",
        "\n",
        "Next, I assess the effectiveness of different sizes of matched donations on the response rate.\n"
      ],
      "id": "b57d513b"
    },
    {
      "cell_type": "code",
      "metadata": {},
      "source": [
        "from scipy import stats\n",
        "\n",
        "ratio1 = df.query(\"ratio==1\")[\"gave\"]\n",
        "ratio2 = df.query(\"ratio2==1\")[\"gave\"]\n",
        "ratio3 = df.query(\"ratio3==1\")[\"gave\"]\n",
        "\n",
        "\n",
        "# t-test\n",
        "def t_test(df1, df2):\n",
        "    mean_diff = df1.mean() - df2.mean()\n",
        "    var1 = df1.var(ddof=1)\n",
        "    var2 = df2.var(ddof=1)\n",
        "    se = np.sqrt(var1 / len(df1) + var2 / len(df2))\n",
        "    t_stat = mean_diff / se\n",
        "    ttest_result = round(t_stat, 2)\n",
        "    degree_of_freedom = (var1 / len(df1) + var1 / len(df2)) ** 2 / (\n",
        "        ((var1 / len(df1)) ** 2) / (len(df1) - 1)\n",
        "        + ((var1 / len(df2)) ** 2) / (len(df2) - 1)\n",
        "    )\n",
        "\n",
        "    p_value = stats.t.sf(np.abs(t_stat), degree_of_freedom) * 2\n",
        "\n",
        "    return ttest_result, round(p_value, 2)\n",
        "\n",
        "\n",
        "print(\n",
        "    f\"1:1 vs 2:1: t-test {t_test(ratio2, ratio1)[0]}, p-value {t_test(ratio2, ratio1)[1]}\"\n",
        ")\n",
        "print(\n",
        "    f\"2:1 vs 3:1: t-test {t_test(ratio3, ratio2)[0]}, p-value {t_test(ratio3, ratio2)[1]}\"\n",
        ")\n",
        "print(\n",
        "    f\"1:1 vs 3:1: t-test {t_test(ratio3, ratio1)[0]}, p-value {t_test(ratio3, ratio1)[1]}\"\n",
        ")"
      ],
      "id": "90885b69",
      "execution_count": null,
      "outputs": []
    },
    {
      "cell_type": "markdown",
      "metadata": {},
      "source": [
        "The results show that there are no significant difference between match ratios, 1:1 vs 2:1, 2:1 vs 3:1, or 1:1 vs 3:1.\n"
      ],
      "id": "ca851e70"
    },
    {
      "cell_type": "code",
      "metadata": {},
      "source": [
        "X = df[[\"ratio2\", \"ratio3\"]]\n",
        "X = sm.add_constant(X)\n",
        "y = df[\"gave\"]\n",
        "\n",
        "model = sm.OLS(y, X).fit()\n",
        "print(model.summary())"
      ],
      "id": "18a0cd18",
      "execution_count": null,
      "outputs": []
    },
    {
      "cell_type": "code",
      "metadata": {},
      "source": [
        "ratio1_mean = df.query(\"(ratio2 == 0) & (ratio3 == 0)\")[\"gave\"].mean()\n",
        "ratio2_mean = df.query(\"ratio2==1\")[\"gave\"].mean()\n",
        "ratio3_mean = df.query(\"ratio3==1\")[\"gave\"].mean()\n",
        "\n",
        "diff11_21 = ratio2_mean - ratio1_mean\n",
        "diff21_31 = ratio3_mean - ratio2_mean\n",
        "\n",
        "print(f\"2:1 - 1:1 = {diff11_21:.4f}\")\n",
        "print(f\"3:1 - 2:1 = {diff21_31:.4f}\")"
      ],
      "id": "20800dd5",
      "execution_count": null,
      "outputs": []
    },
    {
      "cell_type": "markdown",
      "metadata": {},
      "source": [
        "When calculating the response rate directly from the data, the difference between the 2:1 and 1:1 match ratios is about 0.36, while the difference between 3:1 and 2:1 is only 0.01. These results are consistent with the coefficients from the OLS regression, where ratio2 and ratio3 have coefficients of 0.0036 and 0.0037 respectively.\n",
        "\n",
        "In conclusion, increasing the match ratio from 1:1 to 2:1 appears to have a small positive effect on donation likelihood, but increasing the match ratio further to 3:1 shows no additional gain. \n",
        "\n",
        "### Size of Charitable Contribution\n",
        "\n",
        "In this subsection, I analyze the effect of the size of matched donation on the size of the charitable contribution.\n",
        "\n",
        "T-test\n"
      ],
      "id": "a78f8a84"
    },
    {
      "cell_type": "code",
      "metadata": {},
      "source": [
        "treat_amount = df.query(\"treatment == 1\")[\"amount\"]\n",
        "control_amount = df.query(\"control == 1\")[\"amount\"]\n",
        "print(\n",
        "    f\"t_stats: {t_test(treat_amount, control_amount)[0]:.2f}, p-value: {t_test(treat_amount, control_amount)[1]:.2f}\"\n",
        ")"
      ],
      "id": "2e24ba70",
      "execution_count": null,
      "outputs": []
    },
    {
      "cell_type": "markdown",
      "metadata": {},
      "source": [
        "Linear Regression\n"
      ],
      "id": "0dae89af"
    },
    {
      "cell_type": "code",
      "metadata": {},
      "source": [
        "X = sm.add_constant(df[\"treatment\"])\n",
        "y = df[\"amount\"]\n",
        "model = sm.OLS(y, X, missing=\"drop\").fit()\n",
        "print(model.summary())"
      ],
      "id": "b5cbcf20",
      "execution_count": null,
      "outputs": []
    },
    {
      "cell_type": "markdown",
      "metadata": {},
      "source": [
        "We conduct a t-test and a bivariate regression of the donation amount on treatment assignment. The results show that treatment group donors gave approximately $0.15 more on average than the control group, but the difference is small that the p-value wasn't statistically significant, meaning that the impact is limited. \n"
      ],
      "id": "205c416f"
    },
    {
      "cell_type": "code",
      "metadata": {},
      "source": [
        "treat_amount_gave = df.query(\"treatment == 1 and gave==1\")[\"amount\"]\n",
        "control_amount_gave = df.query(\"control == 1 and gave==1\")[\"amount\"]\n",
        "X = sm.add_constant(df.query(\"gave==1\")[\"treatment\"])\n",
        "y = df.query(\"gave==1\")[\"amount\"]\n",
        "model = sm.OLS(y, X, missing=\"drop\").fit()\n",
        "print(model.summary())"
      ],
      "id": "cf67f98a",
      "execution_count": null,
      "outputs": []
    },
    {
      "cell_type": "markdown",
      "metadata": {},
      "source": [
        "We then looked into the sample that made a donation and did the regression analysis o donation amount on treatment assignment. The coefficient on treatment is −1.67 with a p-value of 0.561, indicating no statistically significant difference in donation amounts between the treatment and control groups, suggesting that the treatment group only, on average, gave slightly less than the control group.\n",
        "\n",
        "However, the coefficient does not allow a causal interpretation because adding conditions on treatment behavior (donating) introduces potential selection bias.\n"
      ],
      "id": "53ddc7c3"
    },
    {
      "cell_type": "code",
      "metadata": {},
      "source": [
        "fig, ax = plt.subplots()\n",
        "bars = ax.bar(\n",
        "    [\"treat\", \"control\"],\n",
        "    [treat_amount_gave.mean(), control_amount_gave.mean()],\n",
        "    color=[\"skyblue\", \"orange\"],\n",
        ")\n",
        "\n",
        "for bar in bars:\n",
        "    height = bar.get_height()\n",
        "    ax.annotate(\n",
        "        f\"${height:.2f}\",\n",
        "        xy=(bar.get_x() + bar.get_width() / 2, height),\n",
        "        xytext=(0, 2),\n",
        "        textcoords=\"offset points\",\n",
        "        ha=\"center\",\n",
        "        va=\"bottom\",\n",
        "    )\n",
        "\n",
        "ax.set_ylabel(\"Average Donation Amount ($)\")\n",
        "ax.set_title(\"Average Donation Amount\")\n",
        "\n",
        "plt.show()"
      ],
      "id": "7e1c926f",
      "execution_count": null,
      "outputs": []
    },
    {
      "cell_type": "markdown",
      "metadata": {},
      "source": [
        "The bar chart compares the average donation amounts between treatment and control groups, conditional on having donated. The control group gave slightly more on average ($45.54) than the treatment group ($43.87).\n",
        "\n",
        "\n",
        "## Simulation Experiment\n",
        "\n",
        "As a reminder of how the t-statistic \"works,\" in this section I use simulation to demonstrate the Law of Large Numbers and the Central Limit Theorem.\n",
        "\n",
        "Suppose the true distribution of respondents who do not get a charitable donation match is Bernoulli with probability p=0.018 that a donation is made. \n",
        "\n",
        "Further suppose that the true distribution of respondents who do get a charitable donation match of any size  is Bernoulli with probability p=0.022 that a donation is made.\n",
        "\n",
        "### Law of Large Numbers\n"
      ],
      "id": "92ef98b2"
    },
    {
      "cell_type": "code",
      "metadata": {},
      "source": [
        "p_control = 0.018\n",
        "p_treat = 0.022\n",
        "n_sim = 10_000\n",
        "\n",
        "np.random.seed(100)\n",
        "control_draw = np.random.binomial(1, p_control, n_sim)\n",
        "treat_draw = np.random.binomial(1, p_treat, n_sim)\n",
        "\n",
        "diff = treat_draw - control_draw\n",
        "cumulative_avg = np.cumsum(diff) / np.arange(1, n_sim + 1)\n",
        "\n",
        "plt.figure(figsize=(10, 5))\n",
        "plt.plot(cumulative_avg, label=\"Cumulative Avg of Difference: Treatment - Control\")\n",
        "plt.axhline(p_treat - p_control, color=\"red\", linestyle=\"--\", label=\"True Mean Diff\")\n",
        "plt.title(\"Simulation of Cumulative Average Difference\")\n",
        "plt.xlabel(\"Number of Simulations\")\n",
        "plt.ylabel(\"Cumulative Average\")\n",
        "plt.legend()\n",
        "plt.grid(True)\n",
        "plt.show()"
      ],
      "id": "cd8b4d79",
      "execution_count": null,
      "outputs": []
    },
    {
      "cell_type": "markdown",
      "metadata": {},
      "source": [
        "The figure shows the cumulative average difference between treatment and control groups from a simulation. The average converges toward the true difference (0.004) as the number of simulations gets larger.\n",
        "\n",
        "This illustrates the Law of Large Numbers: as the number of simulations increases, the observed mean gets closer to the expected (true) mean.\n",
        "\n",
        "### Central Limit Theorem\n"
      ],
      "id": "9e631400"
    },
    {
      "cell_type": "code",
      "metadata": {},
      "source": [
        "sample_sizes = [50, 200, 500, 1000]\n",
        "\n",
        "fig, axs = plt.subplots(2, 2, figsize=(12, 8))\n",
        "axs = axs.flatten()\n",
        "\n",
        "for i, n in enumerate(sample_sizes):\n",
        "    diffs = []\n",
        "    np.random.seed(100)\n",
        "    for _ in range(n_sim):\n",
        "        c = np.random.binomial(1, p_control, n).mean()\n",
        "        t = np.random.binomial(1, p_treat, n).mean()\n",
        "        diffs.append(t - c)\n",
        "\n",
        "    axs[i].hist(diffs, bins=30, color=\"lightblue\", edgecolor=\"black\")\n",
        "    axs[i].axvline(0, color=\"red\", linestyle=\"--\", label=\"Zero Line\")\n",
        "    axs[i].axvline(np.mean(diffs), color=\"green\", linestyle=\"-\", label=\"Mean Diff\")\n",
        "    axs[i].set_title(f\"Sample size = {n}\")\n",
        "    axs[i].set_xlabel(\"Treatment - Control Mean Diff\")\n",
        "    axs[i].set_ylabel(\"Frequency\")\n",
        "    axs[i].legend()\n",
        "\n",
        "plt.suptitle(\"Central Limit Theorem: Distribution of Mean Differences\")\n",
        "plt.tight_layout()\n",
        "plt.show()"
      ],
      "id": "5a2169b5",
      "execution_count": null,
      "outputs": []
    },
    {
      "cell_type": "markdown",
      "metadata": {},
      "source": [
        "As the sample size gets larger (50, 200, 500, 1,000), the distribution of average differences will be narrower, more symmetric, and closer to normal distribution.\n",
        "\n",
        "For small samples (e.g., n = 50), the distribution is noisy and is closer to 0. As n becomes larger (e.g., n = 1,000), the distribution converges to normal and centers around the true effect (0.04).\n"
      ],
      "id": "9aded27e"
    }
  ],
  "metadata": {
    "kernelspec": {
      "name": "python3",
      "language": "python",
      "display_name": "Python 3 (ipykernel)",
      "path": "/Users/rebeccatseng/Library/Python/3.9/share/jupyter/kernels/python3"
    }
  },
  "nbformat": 4,
  "nbformat_minor": 5
}